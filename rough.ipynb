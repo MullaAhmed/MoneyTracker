{
 "cells": [
  {
   "cell_type": "code",
   "execution_count": 2,
   "metadata": {},
   "outputs": [],
   "source": [
    "a=[1,2,3]\n",
    "d=dict((smallItem,0) for smallItem in a)"
   ]
  },
  {
   "cell_type": "code",
   "execution_count": 3,
   "metadata": {},
   "outputs": [
    {
     "data": {
      "text/plain": [
       "{1: 0, 2: 0, 3: 0}"
      ]
     },
     "execution_count": 3,
     "metadata": {},
     "output_type": "execute_result"
    }
   ],
   "source": [
    "d"
   ]
  },
  {
   "cell_type": "code",
   "execution_count": 117,
   "metadata": {},
   "outputs": [
    {
     "name": "stdout",
     "output_type": "stream",
     "text": [
      "{'u1': 20, 'u2': -30, 'u3': -20, 'u4': 30}\n"
     ]
    }
   ],
   "source": [
    "a=[{\"u1\":10,\"u2\":-10},{\"u1\":40,\"u2\":-40},{\"u1\":-30,\"u2\":40,\"u3\":-10},{\"u3\":-10,\"u2\":-20,\"u4\":30}]\n",
    "members=[\"u1\",\"u2\",\"u3\",\"u4\"]\n",
    "final_balance_sheet={m:0 for m in members}\n",
    "\n",
    "for i in members:\n",
    "    for j in a:\n",
    "        try:\n",
    "            final_balance_sheet[i]+=j[i]\n",
    "        except:\n",
    "            pass\n",
    "\n",
    "print(final_balance_sheet)\n"
   ]
  },
  {
   "cell_type": "code",
   "execution_count": 118,
   "metadata": {},
   "outputs": [
    {
     "name": "stdout",
     "output_type": "stream",
     "text": [
      "rich ['u1', 'u4']\n",
      "poor ['u2', 'u3']\n"
     ]
    }
   ],
   "source": [
    "val=list(final_balance_sheet.values())\n",
    "key=list(final_balance_sheet.keys())\n",
    "\n",
    "rich_ppl=[]\n",
    "poor_ppl=[]\n",
    "\n",
    "final=[]\n",
    "temp_dict=final_balance_sheet\n",
    "\n",
    "for x in key:\n",
    "    temp=final_balance_sheet[x]\n",
    "    if temp>0:\n",
    "        rich_ppl.append(x)\n",
    "    if temp<0:\n",
    "        poor_ppl.append(x)\n",
    "print(\"rich\",rich_ppl)\n",
    "print(\"poor\",poor_ppl)"
   ]
  },
  {
   "cell_type": "code",
   "execution_count": 119,
   "metadata": {},
   "outputs": [
    {
     "name": "stdout",
     "output_type": "stream",
     "text": [
      "1\n",
      "2\n",
      "3\n",
      "[['u2', 'u1', 20.0], ['u2', 'u4', 10.0], ['u3', 'u4', 20.0]]\n"
     ]
    }
   ],
   "source": [
    "# temp_dict={\"u1\" -20, \"u2\": 10, \"u3\": -20, \"u4\": 30}\n",
    "r_p_m,p_p_m=0,0\n",
    "final=[]\n",
    "while r_p_m<len(rich_ppl) and p_p_m<len(poor_ppl):\n",
    "    if (temp_dict[poor_ppl[p_p_m]])!=0 and temp_dict[rich_ppl[r_p_m]]!=0:\n",
    "        if abs(temp_dict[poor_ppl[p_p_m]])>abs(temp_dict[rich_ppl[r_p_m]]):\n",
    "            print(\"1\")\n",
    "            final.append([str(poor_ppl[p_p_m]),str(rich_ppl[r_p_m]),float(abs(temp_dict[rich_ppl[r_p_m]]))])\n",
    "            temp_dict[poor_ppl[p_p_m]]+=temp_dict[rich_ppl[r_p_m]]\n",
    "            temp_dict[rich_ppl[r_p_m]]=0\n",
    "            \n",
    "            r_p_m+=1\n",
    "        \n",
    "        elif abs(temp_dict[poor_ppl[p_p_m]])<abs(temp_dict[rich_ppl[r_p_m]]):\n",
    "            final.append([str(poor_ppl[p_p_m]),str(rich_ppl[r_p_m]),float(abs(temp_dict[poor_ppl[p_p_m]]))])\n",
    "            temp_dict[rich_ppl[r_p_m]]+=temp_dict[poor_ppl[p_p_m]]\n",
    "            temp_dict[poor_ppl[p_p_m]]=0\n",
    "            p_p_m+=1\n",
    "            print(\"2\")\n",
    "        \n",
    "        elif abs(temp_dict[poor_ppl[p_p_m]])==abs(temp_dict[rich_ppl[r_p_m]]):\n",
    "            final.append([str(poor_ppl[p_p_m]),str(rich_ppl[r_p_m]),float(abs(temp_dict[poor_ppl[p_p_m]]))])\n",
    "            temp_dict[rich_ppl[r_p_m]]=0\n",
    "            temp_dict[poor_ppl[p_p_m]]=0\n",
    "            p_p_m+=1\n",
    "            r_p_m+=1\n",
    "            print(\"3\")\n",
    "    else:\n",
    "        if temp_dict[poor_ppl[p_p_m]]==0:\n",
    "            p_p_m+=1\n",
    "        if temp_dict[rich_ppl[r_p_m]]==0:\n",
    "            r_p_m+=1\n",
    "    \n",
    "print(final)"
   ]
  },
  {
   "cell_type": "code",
   "execution_count": 115,
   "metadata": {},
   "outputs": [
    {
     "data": {
      "text/plain": [
       "(10, 20, 20)"
      ]
     },
     "execution_count": 115,
     "metadata": {},
     "output_type": "execute_result"
    }
   ],
   "source": [
    "{\"u1\":20,\"u2\":-20},\n",
    "{\"u1\":-30,\"u2\":40,\"u3\":-10},\n",
    "{\"u3\":-10,\"u2\":-20,\"u4\":30},\n",
    "50\n",
    "10,20,20"
   ]
  },
  {
   "cell_type": "code",
   "execution_count": 116,
   "metadata": {},
   "outputs": [],
   "source": [
    "def expense_split_check(paid_by,split_type,split_details,amount):\n",
    "    no_of_people=len(split_details)\n",
    "    people=list(split_details.keys())\n",
    "    values=list(split_details.values())\n",
    "    \n",
    "    if split_type == \"EQL\":\n",
    "        for i in range (no_of_people):\n",
    "            split_details[people[i]] = -round(amount/no_of_people,2)\n",
    "\n",
    "\n",
    "    elif split_type == \"UEQ\":\n",
    "        if amount != sum(values):\n",
    "            return False\n",
    "        else:\n",
    "            for i in range (no_of_people):\n",
    "                split_details[people[i]] = -values[i]\n",
    "\n",
    "\n",
    "    elif split_type == \"PER\":\n",
    "        if sum(values) != 100:\n",
    "            return False\n",
    "        else:\n",
    "            for i in range (no_of_people):\n",
    "                split_details[people[i]] = -amount*values[i]/100\n",
    "            \n",
    "        \n",
    "    split_details[paid_by] = amount + split_details[paid_by]\n",
    "    return split_details\n"
   ]
  },
  {
   "cell_type": "code",
   "execution_count": 104,
   "metadata": {},
   "outputs": [
    {
     "data": {
      "text/plain": [
       "{'u1': -30, 'u2': 40, 'u3': -10}"
      ]
     },
     "execution_count": 104,
     "metadata": {},
     "output_type": "execute_result"
    }
   ],
   "source": [
    "expense_split_check(\"u2\",\"UEQ\",{\"u1\":30,\"u2\":10,\"u3\":10},50)"
   ]
  },
  {
   "cell_type": "code",
   "execution_count": 120,
   "metadata": {},
   "outputs": [
    {
     "data": {
      "text/plain": [
       "{'u1': 20, 'u2': -20, 3: 12}"
      ]
     },
     "execution_count": 120,
     "metadata": {},
     "output_type": "execute_result"
    }
   ],
   "source": [
    "a={\"u1\":20,\"u2\":-20}\n",
    "a[3]=12\n",
    "a"
   ]
  },
  {
   "cell_type": "code",
   "execution_count": 121,
   "metadata": {},
   "outputs": [
    {
     "name": "stdout",
     "output_type": "stream",
     "text": [
      "u1\n",
      "u2\n",
      "3\n"
     ]
    }
   ],
   "source": [
    "for i in a:\n",
    "    print(i)\n",
    "    "
   ]
  },
  {
   "cell_type": "code",
   "execution_count": 123,
   "metadata": {},
   "outputs": [
    {
     "name": "stdout",
     "output_type": "stream",
     "text": [
      "{'1': 0, '2': 0} [{'1': 475.0, '2': -475.0}, {'1': 40, '2': -40}]\n",
      "done\n",
      "None\n"
     ]
    }
   ],
   "source": [
    "def seperating_people(people_dict):\n",
    "    owers=[]\n",
    "    borrowers=[]\n",
    "\n",
    "    for x in people_dict.keys():\n",
    "        temp=people_dict[x]\n",
    "        if temp>0:\n",
    "            owers.append(x)\n",
    "        if temp<0:\n",
    "            borrowers.append(x)\n",
    "    return owers,borrowers\n",
    "\n",
    "def group_balance_sheet():\n",
    "   \n",
    "   \n",
    "    expenses=[{'1': 475.0, '2': -475.0}, {'1': 40, '2': -40}] \n",
    "    members=['1', '2']\n",
    "\n",
    "    \n",
    "    condensed_transactions={m:0 for m in members}\n",
    "    \n",
    "    for i in members:\n",
    "       \n",
    "        for j in expenses:\n",
    "            try:\n",
    "                condensed_transactions[i]+=j[i]\n",
    "            except:\n",
    "                pass\n",
    "    \n",
    "            \n",
    "\n",
    "    owers,borrowers=seperating_people(condensed_transactions)\n",
    "    ower_p,borrower_p=0,0\n",
    "    final=[]\n",
    "    \n",
    "    while ower_p<len(owers) and borrower_p<len(borrowers):\n",
    "        if (condensed_transactions[borrowers[borrower_p]])!=0 and condensed_transactions[owers[ower_p]]!=0:\n",
    "            \n",
    "            if abs(condensed_transactions[borrowers[borrower_p]])>abs(condensed_transactions[owers[ower_p]]):\n",
    "\n",
    "                final.append([str(borrowers[borrower_p]),str(owers[ower_p]),float(abs(condensed_transactions[owers[ower_p]]))])\n",
    "                condensed_transactions[borrowers[borrower_p]]+=condensed_transactions[owers[ower_p]]\n",
    "                condensed_transactions[owers[ower_p]]=0\n",
    "                \n",
    "                ower_p+=1\n",
    "            \n",
    "            elif abs(condensed_transactions[borrowers[borrower_p]])<abs(condensed_transactions[owers[ower_p]]):\n",
    "                final.append([str(borrowers[borrower_p]),str(owers[ower_p]),float(abs(condensed_transactions[borrowers[borrower_p]]))])\n",
    "                condensed_transactions[owers[ower_p]]+=condensed_transactions[borrowers[borrower_p]]\n",
    "                condensed_transactions[borrowers[borrower_p]]=0\n",
    "                borrower_p+=1\n",
    "                \n",
    "            \n",
    "            elif abs(condensed_transactions[borrowers[borrower_p]])==abs(condensed_transactions[owers[ower_p]]):\n",
    "                final.append([str(borrowers[borrower_p]),str(owers[ower_p]),float(abs(condensed_transactions[borrowers[borrower_p]]))])\n",
    "                condensed_transactions[owers[ower_p]]=0\n",
    "                condensed_transactions[borrowers[borrower_p]]=0\n",
    "                borrower_p+=1\n",
    "                ower_p+=1\n",
    "                \n",
    "        else:\n",
    "            if condensed_transactions[borrowers[borrower_p]]==0:\n",
    "                borrower_p+=1\n",
    "            if condensed_transactions[owers[ower_p]]==0:\n",
    "                ower_p+=1\n",
    "        \n",
    "    print(condensed_transactions,expenses)\n",
    "    # user_balance_sheet.delay(condensed_transactions,group_id)\n",
    "    # group.expense_map={\"expenses\":final}\n",
    "    # group.save(update_fields=[\"expense_map\"]) \n",
    "\n",
    "\n",
    "    print(\"done\")\n",
    "\n",
    "print(group_balance_sheet())"
   ]
  },
  {
   "cell_type": "code",
   "execution_count": null,
   "metadata": {},
   "outputs": [],
   "source": []
  }
 ],
 "metadata": {
  "kernelspec": {
   "display_name": "base",
   "language": "python",
   "name": "python3"
  },
  "language_info": {
   "codemirror_mode": {
    "name": "ipython",
    "version": 3
   },
   "file_extension": ".py",
   "mimetype": "text/x-python",
   "name": "python",
   "nbconvert_exporter": "python",
   "pygments_lexer": "ipython3",
   "version": "3.8.8"
  },
  "orig_nbformat": 4,
  "vscode": {
   "interpreter": {
    "hash": "ad2bdc8ecc057115af97d19610ffacc2b4e99fae6737bb82f5d7fb13d2f2c186"
   }
  }
 },
 "nbformat": 4,
 "nbformat_minor": 2
}
